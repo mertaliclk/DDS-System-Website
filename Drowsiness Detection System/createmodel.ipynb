{
 "cells": [
  {
   "cell_type": "code",
   "execution_count": null,
   "id": "9a2422c3-2408-43ee-9011-1875d737cbb7",
   "metadata": {},
   "outputs": [],
   "source": [
    "import cv2\n",
    "import tensorflow as tf\n",
    "from tensorflow import keras\n",
    "from tensorflow.keras import layers\n",
    "import matplotlib.pyplot as plt\n",
    "import numpy as np\n",
    "import random as rnd\n",
    "import os\n"
   ]
  },
  {
   "cell_type": "code",
   "execution_count": null,
   "id": "a8285ebe-4556-460f-a341-be9297645bc6",
   "metadata": {},
   "outputs": [],
   "source": [
    "feature_type = 0 #If it is for eyes, use 0 if it is for mouth use 1"
   ]
  },
  {
   "cell_type": "code",
   "execution_count": null,
   "id": "1d1f597d-c25b-4105-8c70-028a49bcf201",
   "metadata": {},
   "outputs": [],
   "source": [
    "Traindataset = []\n",
    "Testdataset = []\n",
    "traindirect = \"Traindataset/\"\n",
    "testdirect = \"Testdataset/\"\n",
    "difftypes = [\"Closed\", \"Opened\"] #Arrange according to mouth or eyes since for eyes closing is unwanted while for mouth opening is unwanted"
   ]
  },
  {
   "cell_type": "code",
   "execution_count": null,
   "id": "ed22499b-e7df-42d8-969d-8644e8d1bdff",
   "metadata": {},
   "outputs": [],
   "source": [
    "def preparedataset(directory, dataset):\n",
    "    for catalog in difftypes:\n",
    "        path = os.path.join(directory,catalog)\n",
    "        class_type = difftypes.index(catalog)\n",
    "        for sample_image in os.listdir(path):\n",
    "            img_array = cv2.imread(os.path.join(path,sample_image), cv2.IMREAD_GRAYSCALE)\n",
    "            img_rgb = cv2.cvtColor(img_array, cv2.COLOR_GRAY2RGB)\n",
    "            updated_arr = cv2.resize(img_rgb, (32, 32))\n",
    "            dataset.append([updated_arr,class_type])"
   ]
  },
  {
   "cell_type": "code",
   "execution_count": null,
   "id": "834b3689-22ba-4281-aa3d-6659c0d6ecc4",
   "metadata": {},
   "outputs": [],
   "source": [
    "preparedataset(traindirect, Traindataset)\n",
    "preparedataset(testdirect, Testdataset)"
   ]
  },
  {
   "cell_type": "code",
   "execution_count": null,
   "id": "78be0de9-e786-4b94-86d0-f3ca3002480c",
   "metadata": {},
   "outputs": [],
   "source": [
    "rnd.shuffle(Traindataset)\n",
    "rnd.shuffle(Testdataset)"
   ]
  },
  {
   "cell_type": "code",
   "execution_count": null,
   "id": "f7cc78b5-190e-4d85-b9e8-bb4ecb23305f",
   "metadata": {},
   "outputs": [],
   "source": [
    "X_train = []\n",
    "X_test = []\n",
    "Y_train = []\n",
    "Y_test = []"
   ]
  },
  {
   "cell_type": "code",
   "execution_count": null,
   "id": "9e70198f-e99c-4cb5-8b7b-2dc53b7bac5f",
   "metadata": {},
   "outputs": [],
   "source": [
    "def createXY(xset,yset, tra_or_te):\n",
    "    for features, label in tra_or_te:\n",
    "        xset.append(features)\n",
    "        yset.append(label)"
   ]
  },
  {
   "cell_type": "code",
   "execution_count": null,
   "id": "45a0ccc3-75fa-43b9-9835-e37064dea9ca",
   "metadata": {},
   "outputs": [],
   "source": [
    "createXY(X_train, Y_train,Traindataset)\n",
    "createXY(X_test, Y_test, Testdataset)"
   ]
  },
  {
   "cell_type": "code",
   "execution_count": null,
   "id": "0dadf2cd-9f54-4b03-9646-fd3f40f53e48",
   "metadata": {},
   "outputs": [],
   "source": [
    "X_train = np.array(X_train).reshape(-1, 32, 32, 3)\n",
    "X_train = X_train / 255.0\n",
    "Y_train = np.array(Y_train)\n",
    "\n",
    "X_test = np.array(X_test).reshape(-1, 32, 32, 3)\n",
    "X_test = X_test / 255.0\n",
    "Y_test = np.array(Y_test)"
   ]
  },
  {
   "cell_type": "code",
   "execution_count": null,
   "id": "d0460a91-0856-4a76-8440-08ca7d094199",
   "metadata": {},
   "outputs": [],
   "source": [
    "model = tf.keras.applications.mobilenet.MobileNet()\n",
    "model.summary()"
   ]
  },
  {
   "cell_type": "code",
   "execution_count": null,
   "id": "184b43ea-469b-4506-a15b-4956bf0363f3",
   "metadata": {},
   "outputs": [],
   "source": [
    "startingpoint = model.layers[0].input\n",
    "endingpoint = model.layers[-4].input"
   ]
  },
  {
   "cell_type": "code",
   "execution_count": null,
   "id": "bdc06c77-e0b3-4bfb-8b0d-255b287e0ccd",
   "metadata": {},
   "outputs": [],
   "source": [
    "flattening = layers.Flatten()(endingpoint)\n",
    "result_model = layers.Dense(1)(flattening)\n",
    "result_model = layers.Activation('sigmoid')(result_model)"
   ]
  },
  {
   "cell_type": "code",
   "execution_count": null,
   "id": "56547cbd-b80c-430c-9973-7dfbce776bd3",
   "metadata": {},
   "outputs": [],
   "source": [
    "final_model = keras.Model(inputs = startingpoint, outputs = endingpoint)\n",
    "final_model.compile(loss=\"binary_crossentropy\", optimizer = \"adam\", metrics = [\"accuracy\"])\n",
    "final_model.fit(X_train, Y_train, epochs=1, validation_data=(X_test, Y_test))\n"
   ]
  },
  {
   "cell_type": "code",
   "execution_count": null,
   "id": "3ecd1988-2f05-440b-83ab-2fa07e7c8cd4",
   "metadata": {},
   "outputs": [],
   "source": [
    "if feature_type == 0:\n",
    "    final_model.save(\"eye_model.h5\")\n",
    "elif feature_type == 1:\n",
    "    final_model.save(\"mouth_model.h5\")\n"
   ]
  }
 ],
 "metadata": {
  "kernelspec": {
   "display_name": "Python 3 (ipykernel)",
   "language": "python",
   "name": "python3"
  },
  "language_info": {
   "codemirror_mode": {
    "name": "ipython",
    "version": 3
   },
   "file_extension": ".py",
   "mimetype": "text/x-python",
   "name": "python",
   "nbconvert_exporter": "python",
   "pygments_lexer": "ipython3",
   "version": "3.12.1"
  }
 },
 "nbformat": 4,
 "nbformat_minor": 5
}
